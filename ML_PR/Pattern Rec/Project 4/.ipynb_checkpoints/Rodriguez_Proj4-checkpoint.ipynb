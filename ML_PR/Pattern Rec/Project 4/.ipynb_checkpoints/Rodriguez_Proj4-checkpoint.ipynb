{
 "cells": [
  {
   "cell_type": "code",
   "execution_count": 70,
   "id": "5bcb8938-1a38-457e-9b30-8847c44c848b",
   "metadata": {},
   "outputs": [],
   "source": [
    "import numpy as np\n",
    "import pandas as pd"
   ]
  },
  {
   "cell_type": "code",
   "execution_count": 71,
   "id": "2cbaa259-742c-4466-acf1-3d2c0199dfc1",
   "metadata": {},
   "outputs": [],
   "source": [
    "# Define the true parameters for the datasets\n",
    "m = np.vstack((np.zeros(5), np.ones(5)))  # Mean vectors for class 1 and class 2\n",
    "# print(m, m.shape)\n",
    "s = np.zeros((2,5,5))  # Covariance matrices for class 1 and class 2\n",
    "s[0,:,:] = np.array([[0.8, 0.2, 0.1, 0.05, 0.01],   # Covariance matrix for class 1\n",
    "                    [0.2, 0.7, 0.1, 0.03, 0.02],\n",
    "                    [0.1, 0.1, 0.8, 0.02, 0.01],\n",
    "                    [0.05, 0.03, 0.02, 0.9, 0.01],\n",
    "                    [0.01, 0.02, 0.01, 0.01, 0.8]])\n",
    "s[1,:,:] = np.array([[0.9, 0.1, 0.05, 0.02, 0.01],   # Covariance matrix for class 2\n",
    "                    [0.1, 0.8, 0.1, 0.02, 0.02],\n",
    "                    [0.05, 0.1, 0.7, 0.02, 0.01],\n",
    "                    [0.02, 0.02, 0.02, 0.6, 0.02],\n",
    "                    [0.01, 0.02, 0.01, 0.02, 0.7]])    \n",
    "# print(s, s.shape)\n",
    "p = np.vstack((1/2, 1/2))  # Class probabilities\n",
    "# print(p, p.shape)"
   ]
  },
  {
   "cell_type": "code",
   "execution_count": 73,
   "id": "c38ae414-db58-4874-8b14-8b59c8d325be",
   "metadata": {},
   "outputs": [],
   "source": [
    "def NaiveBayesCLF(trainfile, testfile, x, m, s, p):\n",
    "    # open the datasets\n",
    "    df = pd.read_excel(trainfile, header=None ,names=('x1', 'x2', 'x3', 'x4', 'x5', 'label'))\n",
    "    df_test = pd.read_excel(testfile, header=None)\n",
    "    df_testy = df_test.iloc[:, -1].to_numpy()\n",
    "    df_testx = df_test.iloc[:, :-1].to_numpy()\n",
    "    \n",
    "    # estimate the prior\n",
    "    priors = (df.groupby('label').size() / len(df)).to_numpy()\n",
    "    # print(priors)\n",
    "    # estimate the means\n",
    "    means = df.groupby('label').mean().to_numpy()\n",
    "    # estimate the variances\n",
    "    vars = df.groupby('label').var().to_numpy()\n",
    "    # print(vars)\n",
    "    # store possible classes\n",
    "    classes = df['label'].unique()\n",
    "    # print(classes)\n",
    "    \n",
    "    # get the test scores\n",
    "    tst_z = gaussian(df_testx, means, vars)\n",
    "    # multiply by priors\n",
    "    probs = tst_z * priors\n",
    "    # class predictions\n",
    "    pred_y = 1 + np.argmax(probs, axis=1)\n",
    "    \n",
    "    # compute the error\n",
    "    error = np.mean(pred_y != df_testy)\n",
    "    return error"
   ]
  },
  {
   "cell_type": "code",
   "execution_count": 66,
   "id": "52fb0fd5-4607-4035-bc0b-472488cbaa3e",
   "metadata": {},
   "outputs": [],
   "source": [
    "def gaussian(X, mu, var):\n",
    "    # Calculate the exponent term\n",
    "    exponent = -((X[:, np.newaxis] - mu) ** 2) / (2 * var)\n",
    "    \n",
    "    # Calculate the Gaussian probability density function\n",
    "    pdf = np.exp(exponent) / np.sqrt(2 * np.pi * var)\n",
    "    \n",
    "    # Compute the product of probabilities along each feature axis\n",
    "    return np.prod(pdf, axis=2)\n"
   ]
  },
  {
   "cell_type": "code",
   "execution_count": 67,
   "id": "5685c072-c826-4504-9706-8eab43be69aa",
   "metadata": {},
   "outputs": [
    {
     "data": {
      "text/html": [
       "<div>\n",
       "<style scoped>\n",
       "    .dataframe tbody tr th:only-of-type {\n",
       "        vertical-align: middle;\n",
       "    }\n",
       "\n",
       "    .dataframe tbody tr th {\n",
       "        vertical-align: top;\n",
       "    }\n",
       "\n",
       "    .dataframe thead th {\n",
       "        text-align: right;\n",
       "    }\n",
       "</style>\n",
       "<table border=\"1\" class=\"dataframe\">\n",
       "  <thead>\n",
       "    <tr style=\"text-align: right;\">\n",
       "      <th></th>\n",
       "      <th>Error Train_N = 100</th>\n",
       "      <th>Error Train_N = 1000</th>\n",
       "    </tr>\n",
       "  </thead>\n",
       "  <tbody>\n",
       "    <tr>\n",
       "      <th>Naive Bayes</th>\n",
       "      <td>NaN</td>\n",
       "      <td>NaN</td>\n",
       "    </tr>\n",
       "    <tr>\n",
       "      <th>MLE Bayes</th>\n",
       "      <td>NaN</td>\n",
       "      <td>NaN</td>\n",
       "    </tr>\n",
       "    <tr>\n",
       "      <th>Bayes</th>\n",
       "      <td>NaN</td>\n",
       "      <td>NaN</td>\n",
       "    </tr>\n",
       "  </tbody>\n",
       "</table>\n",
       "</div>"
      ],
      "text/plain": [
       "             Error Train_N = 100  Error Train_N = 1000\n",
       "Naive Bayes                  NaN                   NaN\n",
       "MLE Bayes                    NaN                   NaN\n",
       "Bayes                        NaN                   NaN"
      ]
     },
     "execution_count": 67,
     "metadata": {},
     "output_type": "execute_result"
    }
   ],
   "source": [
    "# Create an empty DataFrame\n",
    "errors = pd.DataFrame(index=['Naive Bayes', 'MLE Bayes', 'Bayes'], \n",
    "                      columns=['Error Train_N = 100', 'Error Train_N = 1000'])\n",
    "\n",
    "# Optionally, you can fill the DataFrame with NaN values\n",
    "errors = errors.fillna(float('nan'))\n",
    "errors"
   ]
  },
  {
   "cell_type": "code",
   "execution_count": 68,
   "id": "8d3e20e0-89d6-4293-a75e-7f9d81f912b5",
   "metadata": {},
   "outputs": [],
   "source": [
    "errors.at['Naive Bayes', 'Error Train_N = 100'] = NaiveBayesCLF('Proj4Train100.xlsx', 'Proj4Test.xlsx')\n",
    "errors.at['Naive Bayes', 'Error Train_N = 1000'] = NaiveBayesCLF('Proj4Train1000.xlsx', 'Proj4Test.xlsx')"
   ]
  },
  {
   "cell_type": "code",
   "execution_count": 69,
   "id": "ef8001f7-afa7-4475-b911-f0a304238141",
   "metadata": {},
   "outputs": [
    {
     "data": {
      "text/html": [
       "<div>\n",
       "<style scoped>\n",
       "    .dataframe tbody tr th:only-of-type {\n",
       "        vertical-align: middle;\n",
       "    }\n",
       "\n",
       "    .dataframe tbody tr th {\n",
       "        vertical-align: top;\n",
       "    }\n",
       "\n",
       "    .dataframe thead th {\n",
       "        text-align: right;\n",
       "    }\n",
       "</style>\n",
       "<table border=\"1\" class=\"dataframe\">\n",
       "  <thead>\n",
       "    <tr style=\"text-align: right;\">\n",
       "      <th></th>\n",
       "      <th>Error Train_N = 100</th>\n",
       "      <th>Error Train_N = 1000</th>\n",
       "    </tr>\n",
       "  </thead>\n",
       "  <tbody>\n",
       "    <tr>\n",
       "      <th>Naive Bayes</th>\n",
       "      <td>0.1248</td>\n",
       "      <td>0.1213</td>\n",
       "    </tr>\n",
       "    <tr>\n",
       "      <th>MLE Bayes</th>\n",
       "      <td>NaN</td>\n",
       "      <td>NaN</td>\n",
       "    </tr>\n",
       "    <tr>\n",
       "      <th>Bayes</th>\n",
       "      <td>NaN</td>\n",
       "      <td>NaN</td>\n",
       "    </tr>\n",
       "  </tbody>\n",
       "</table>\n",
       "</div>"
      ],
      "text/plain": [
       "             Error Train_N = 100  Error Train_N = 1000\n",
       "Naive Bayes               0.1248                0.1213\n",
       "MLE Bayes                    NaN                   NaN\n",
       "Bayes                        NaN                   NaN"
      ]
     },
     "execution_count": 69,
     "metadata": {},
     "output_type": "execute_result"
    }
   ],
   "source": [
    "errors"
   ]
  },
  {
   "cell_type": "code",
   "execution_count": null,
   "id": "b8a40e6e-1e0c-41df-b1fd-5c573c9f44b9",
   "metadata": {},
   "outputs": [],
   "source": []
  }
 ],
 "metadata": {
  "kernelspec": {
   "display_name": "Python 3 (ipykernel)",
   "language": "python",
   "name": "python3"
  },
  "language_info": {
   "codemirror_mode": {
    "name": "ipython",
    "version": 3
   },
   "file_extension": ".py",
   "mimetype": "text/x-python",
   "name": "python",
   "nbconvert_exporter": "python",
   "pygments_lexer": "ipython3",
   "version": "3.11.7"
  }
 },
 "nbformat": 4,
 "nbformat_minor": 5
}
